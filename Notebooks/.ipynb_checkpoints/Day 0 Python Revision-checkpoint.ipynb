{
 "cells": [
  {
   "cell_type": "markdown",
   "metadata": {
    "colab_type": "text",
    "id": "9WknV6SXYa5J"
   },
   "source": [
    "# Introduction to Python and Jupyter notebooks\n",
    "\n",
    "This notebook just provides a small introduction to python which you will be requiring for this bootcamp. This is not a compulsory notebook and if you are already experienced with python you can jump right into the notebook for day 1.\n",
    "\n",
    "The main aim of this notebook is to familarize you with python syntax and also introduce the package numpy. If you are running this on colab you will not need any additional installations and this will also run if you are using Jupyter Anoconda. We do suggest using the IBM Q experience for future notebooks as you will require qiskit and its smoother to run it on IBM Q rather than all the installation. \n",
    "To setup an IBM Q account refer https://quantum-computing.ibm.com/login. \n",
    "For installing qiskit refer this https://qiskit.org/documentation/install.html\n",
    "If you have any doubts, feel free to drop them on the telegram group.\n",
    "You can find more support here https://quantum-computing.ibm.com/support"
   ]
  },
  {
   "cell_type": "markdown",
   "metadata": {
    "colab_type": "text",
    "id": "akwjz2EcYa5K"
   },
   "source": [
    "## Variables, types and declarations"
   ]
  },
  {
   "cell_type": "code",
   "execution_count": null,
   "metadata": {
    "colab": {},
    "colab_type": "code",
    "id": "b5wehc6nYa5K"
   },
   "outputs": [],
   "source": [
    "#Declaring variables\n",
    "a = 2 \n",
    "print(a)\n",
    "print(type(a)) #This is an integer "
   ]
  },
  {
   "cell_type": "code",
   "execution_count": null,
   "metadata": {
    "colab": {},
    "colab_type": "code",
    "id": "CdZgNOe9Ya5O"
   },
   "outputs": [],
   "source": [
    "#True and False are special keywords in python\n",
    "boolean = True\n",
    "print(boolean)\n",
    "print(type(boolean))"
   ]
  },
  {
   "cell_type": "code",
   "execution_count": null,
   "metadata": {
    "colab": {},
    "colab_type": "code",
    "id": "4FC2xjMdYa5Q"
   },
   "outputs": [],
   "source": [
    "#Here 7e-2 is 7x10^-2 and the 1j actually is the square root of -1\n",
    "b = 7e-2 + (8e-2)*1j\n",
    "print(b)\n",
    "print(type(b)) # This is a complex number"
   ]
  },
  {
   "cell_type": "code",
   "execution_count": null,
   "metadata": {
    "colab": {},
    "colab_type": "code",
    "id": "NqL0ltTYYa5S"
   },
   "outputs": [],
   "source": [
    "#We will now try to re initiallize variable a and it will change its class\n",
    "a = 7.2\n",
    "print(a)\n",
    "print(type(a)) #this is a float"
   ]
  },
  {
   "cell_type": "code",
   "execution_count": null,
   "metadata": {
    "colab": {},
    "colab_type": "code",
    "id": "C_t1yqZWYa5V"
   },
   "outputs": [],
   "source": [
    "string = \"a word\"\n",
    "print(string)\n",
    "print(type(string))"
   ]
  },
  {
   "cell_type": "code",
   "execution_count": null,
   "metadata": {
    "colab": {},
    "colab_type": "code",
    "id": "KWkMTXM7Ya5X"
   },
   "outputs": [],
   "source": [
    "#Type conversions can be done too\n",
    "a_s = str(a)\n",
    "bool3 = bool(a)\n",
    "print(a_s)\n",
    "print(type(a_s))\n",
    "print(bool3)\n",
    "print(type(bool3))"
   ]
  },
  {
   "cell_type": "code",
   "execution_count": null,
   "metadata": {
    "colab": {},
    "colab_type": "code",
    "id": "YirmSQWJYa5Z"
   },
   "outputs": [],
   "source": [
    "#we also have lists, dictionaries and tuples\n",
    "list1 = [1,2,3,4,5,6,\"word\"] # A list. Same as an array and is dynamic in length\n",
    "dict1 = {1: 3, 'k':'f'} #A dictionary. This maps the first one as index to the second term as value\n",
    "tuple1 = (1,2,4,5,0,-1,dict1) #A tuple. This is a collection of objects which get reordered are cannot be changed once assigned (immutable)\n",
    "print(list1)\n",
    "print(type(list1))\n",
    "print(dict1)\n",
    "print(type(dict1))\n",
    "print(tuple1)\n",
    "print(type(tuple1))"
   ]
  },
  {
   "cell_type": "markdown",
   "metadata": {
    "colab_type": "text",
    "id": "mntc2ZJxYa5b"
   },
   "source": [
    "All of these are indexed exactly like arrays are but there is a special feature of python where it also takes negative indices and uses them to count backwards so <code>list[-1]</code> will have value \"a\". In dictionary the index has to be one of the terms present before the colon and that maps to the term after the colon and you will see how."
   ]
  },
  {
   "cell_type": "code",
   "execution_count": null,
   "metadata": {
    "colab": {},
    "colab_type": "code",
    "id": "Q7ExVLTEYa5c"
   },
   "outputs": [],
   "source": [
    "print(list1[-1])#Prints last index\n",
    "print(dict1['k'])#Prints the mapped value to 'k'"
   ]
  },
  {
   "cell_type": "markdown",
   "metadata": {
    "colab_type": "text",
    "id": "e5HVIIYrYa5e"
   },
   "source": [
    "A list of lists is essentially a 2 dimensional list and we can go on for as many dimensions as we like (as long as we dont run out of memory)."
   ]
  },
  {
   "cell_type": "markdown",
   "metadata": {
    "colab_type": "text",
    "id": "d4BpiMaoYa5e"
   },
   "source": [
    "## Conditional statements and loops\n",
    "\n",
    "We can use keywords like <code>is, in</code> and also <code>and, or, not</code> for analyzing the truth of a statement. The <code>is</code> tells us if two values are the same. The <code>in</code> tells us if a certain value is present in the other (like whether there is a certain value present in a list). The <code>and, or, not</code> are simply the bitwise operators of AND, OR, NOT."
   ]
  },
  {
   "cell_type": "code",
   "execution_count": null,
   "metadata": {
    "colab": {},
    "colab_type": "code",
    "id": "d5OX87cEYa5f"
   },
   "outputs": [],
   "source": [
    "#Using is\n",
    "var1 = 78\n",
    "tuple2 = (1,2,4,5,0,-1,dict1)\n",
    "print(var1 is 78)#This will be true\n",
    "print(tuple1 is tuple2)#This will be false since tuples,lists and dicts essentially are addresses\n",
    "                       #Hence even when they have same value, is requires also same addresses\n",
    "print(tuple1 == tuple2)#This shows true since == checks equality in values\n",
    "print(tuple1[-1] is tuple1[-1])#This is true since these both point to the same variable"
   ]
  },
  {
   "cell_type": "code",
   "execution_count": null,
   "metadata": {
    "colab": {},
    "colab_type": "code",
    "id": "n5Gh1ysTYa5h"
   },
   "outputs": [],
   "source": [
    "var2 = 1\n",
    "print(var2 in list1)#Shows true since var2 is infact in this list"
   ]
  },
  {
   "cell_type": "code",
   "execution_count": null,
   "metadata": {
    "colab": {},
    "colab_type": "code",
    "id": "JEFGVWwRYa5j"
   },
   "outputs": [],
   "source": [
    "bool1 = True\n",
    "bool2 = False\n",
    "print(bool1 and bool2)\n",
    "print(bool1 or bool2)\n",
    "print(not bool2)"
   ]
  },
  {
   "cell_type": "markdown",
   "metadata": {
    "colab_type": "text",
    "id": "RSTEawk_Ya5l"
   },
   "source": [
    "<code>if</code> statements do a task if a certain statement is true and the following <code>elif</code> executes if thi statement wasnt true but another mentiones one is. If none of the statements come true the it will go to <code>else</code>."
   ]
  },
  {
   "cell_type": "code",
   "execution_count": null,
   "metadata": {
    "colab": {},
    "colab_type": "code",
    "id": "5IsiruFwYa5m"
   },
   "outputs": [],
   "source": [
    "if bool1:\n",
    "    print('bool1 is true')#This one is executed as per our declarations \n",
    "elif not bool2:\n",
    "    print('bool2 is false and so is bool1')#This one isnt reached\n",
    "else:\n",
    "    print('bool1 is false but bool2 is true')#This one isnt reached"
   ]
  },
  {
   "cell_type": "markdown",
   "metadata": {
    "colab_type": "text",
    "id": "oaOO2hIdYa5o"
   },
   "source": [
    "For looping we have the <code>for</code> loop which runs for a fixed number of iterations unless <code>break</code> is not mentioned anywhere. It iterates over a variable from a range or even from a list. There also is the <code>while</code> loop which executes as long as a certain statement is true."
   ]
  },
  {
   "cell_type": "code",
   "execution_count": null,
   "metadata": {
    "colab": {},
    "colab_type": "code",
    "id": "dEJpv580Ya5o"
   },
   "outputs": [],
   "source": [
    "for i in list1:\n",
    "    print(i)"
   ]
  },
  {
   "cell_type": "code",
   "execution_count": null,
   "metadata": {
    "colab": {},
    "colab_type": "code",
    "id": "-Wt9171aYa5q"
   },
   "outputs": [],
   "source": [
    "for i in range(10):#iterates over numbers 0 to 9 both included\n",
    "    print(i)\n",
    "print(\"  \")\n",
    "for i in range(1,10):#iterates over numbers 1 to 9 both included\n",
    "    print(i)"
   ]
  },
  {
   "cell_type": "code",
   "execution_count": null,
   "metadata": {
    "colab": {},
    "colab_type": "code",
    "id": "Pt44rlt4Ya5s"
   },
   "outputs": [],
   "source": [
    "for k,d in dict1.items():\n",
    "    print(k,d)"
   ]
  },
  {
   "cell_type": "code",
   "execution_count": null,
   "metadata": {
    "colab": {},
    "colab_type": "code",
    "id": "T8bYxIolYa5u"
   },
   "outputs": [],
   "source": [
    "g = 100\n",
    "while(g > 0):\n",
    "    g = g//2#This returns the integer division of g\n",
    "    print(g)"
   ]
  },
  {
   "cell_type": "markdown",
   "metadata": {
    "colab_type": "text",
    "id": "_Nc1cjHJYa5w"
   },
   "source": [
    "## Defining functions and using packages\n",
    "\n",
    "Functions take arguments, do a task and may or may not return a value. Functions help in keeping your code clean so its always better to use them as much as required.\n",
    "\n",
    "In this bootcamp you will be using the qiskit package which has various classes and functions in them which help us emulate a quantum computer and there are also ways by which we can call a backend to use one of their actual computers for an experiment or circuit that we have constructed. You will see this all in detail soon.\n",
    "\n",
    "One of the most important and useful package you wil be using is the numpy package."
   ]
  },
  {
   "cell_type": "code",
   "execution_count": null,
   "metadata": {
    "colab": {},
    "colab_type": "code",
    "id": "KajSLwGvYa5x"
   },
   "outputs": [],
   "source": [
    "def myfunc(a):#takes an input of a\n",
    "    return a*2 #returns the double of a\n",
    "\n",
    "print(myfunc(2))#Calls function giving 2 as input\n",
    "print(myfunc(3.4 + 4j))\n",
    "print(myfunc(list1))"
   ]
  },
  {
   "cell_type": "code",
   "execution_count": null,
   "metadata": {
    "colab": {},
    "colab_type": "code",
    "id": "C9FJ4WpMYa5z"
   },
   "outputs": [],
   "source": [
    "def myfunc2(*args):# we use *args when we do not know how many arguments will be sent\n",
    "    s = 0\n",
    "    for i in args:\n",
    "        s = s + i\n",
    "    return s\n",
    "print(myfunc2(34))\n",
    "print(myfunc2(34,35,36))"
   ]
  },
  {
   "cell_type": "code",
   "execution_count": null,
   "metadata": {
    "colab": {},
    "colab_type": "code",
    "id": "DWlODhoKYa51"
   },
   "outputs": [],
   "source": [
    "def myfunc3(**kwargs):#we use **kwargs when we are to receive unkown number of keyword arguments\n",
    "                      #A keyword argument is where you provide a name to the variable as you pass it into the function.\n",
    "    for i,j in kwargs.items():\n",
    "        print(i,j)\n",
    "myfunc3(x1 = 1, x2 = \"abcd\", x3 = list1)"
   ]
  },
  {
   "cell_type": "markdown",
   "metadata": {
    "colab_type": "text",
    "id": "ibih8A3yYa53"
   },
   "source": [
    "A lambda function is a small anonymous function.\n",
    "A lambda function can take any number of arguments, but can only have one expression.\n",
    "This makes them very powerful tools by themselves."
   ]
  },
  {
   "cell_type": "code",
   "execution_count": null,
   "metadata": {
    "colab": {},
    "colab_type": "code",
    "id": "p7Thuu7WYa53"
   },
   "outputs": [],
   "source": [
    "add = lambda a,b: a+b #A lamda function takes arguments and returns only one value\n",
    "\n",
    "print(add(list1,list1)) #essentially adds the list to itself"
   ]
  },
  {
   "cell_type": "markdown",
   "metadata": {
    "colab_type": "text",
    "id": "8iSgzvaeYa55"
   },
   "source": [
    "We can import numpy using this"
   ]
  },
  {
   "cell_type": "code",
   "execution_count": null,
   "metadata": {
    "colab": {},
    "colab_type": "code",
    "id": "aj_lDo0QYa55"
   },
   "outputs": [],
   "source": [
    "import numpy as np #imports the package numpy and we have renamed it to np so our code looks cleaner\n",
    "print(np.pi)#Good old pi\n",
    "arr = np.array([[1,3],[4,2]])#Essentially an array and the argument given\n",
    "print(arr)\n",
    "print(arr.shape)#this gives the shape of the arr"
   ]
  },
  {
   "cell_type": "code",
   "execution_count": null,
   "metadata": {
    "colab": {},
    "colab_type": "code",
    "id": "sTXufaz1Ya57"
   },
   "outputs": [],
   "source": [
    "arr2 = np.array([[0.3,8j],[9j,0]])\n",
    "arr3 = np.matmul(arr2,arr)#this will give the matrix multiplication of arr2*arr\n",
    "print(arr3)"
   ]
  },
  {
   "cell_type": "markdown",
   "metadata": {
    "colab_type": "text",
    "id": "d30y3d6TYa5-"
   },
   "source": [
    "You can find a really great python cheatsheet <a href=\"https://gto76.github.io/python-cheatsheet/\">here</a> for additional reference. Also do visit https://numpy.org/ where you can find a very good documentation of everything that you may need and also along with scipy package you can do as much linear algebra as you may need to using python."
   ]
  }
 ],
 "metadata": {
  "colab": {
   "collapsed_sections": [],
   "name": "introduction.ipynb",
   "provenance": []
  },
  "kernelspec": {
   "display_name": "Python 3",
   "language": "python",
   "name": "python3"
  },
  "language_info": {
   "codemirror_mode": {
    "name": "ipython",
    "version": 3
   },
   "file_extension": ".py",
   "mimetype": "text/x-python",
   "name": "python",
   "nbconvert_exporter": "python",
   "pygments_lexer": "ipython3",
   "version": "3.8.1"
  }
 },
 "nbformat": 4,
 "nbformat_minor": 1
}
